{
 "cells": [
  {
   "cell_type": "markdown",
   "metadata": {},
   "source": [
    "# 1. Import Necessary Libraries"
   ]
  },
  {
   "cell_type": "code",
   "execution_count": 74,
   "metadata": {},
   "outputs": [
    {
     "name": "stdout",
     "output_type": "stream",
     "text": [
      "The autoreload extension is already loaded. To reload it, use:\n",
      "  %reload_ext autoreload\n"
     ]
    }
   ],
   "source": [
    "import pandas as pd\n",
    "import numpy as np\n",
    "import pickle\n",
    "from sklearn.model_selection import train_test_split\n",
    "from sklearn.linear_model import LinearRegression\n",
    "from src.data_preprocessing import preprocess_data_monthly\n",
    "from src.model_training import train_model, evaluate_model, save_model\n",
    "from src.model_inference import load_preprocessing_pipeline, load_model, preprocess_new_entry, predict_units\n",
    "\n",
    "%load_ext autoreload\n",
    "%autoreload 2"
   ]
  },
  {
   "cell_type": "markdown",
   "metadata": {},
   "source": [
    "# 2. Load the Data"
   ]
  },
  {
   "cell_type": "code",
   "execution_count": 75,
   "metadata": {},
   "outputs": [
    {
     "name": "stdout",
     "output_type": "stream",
     "text": [
      "Raw Data:\n"
     ]
    },
    {
     "data": {
      "text/html": [
       "<div>\n",
       "<style scoped>\n",
       "    .dataframe tbody tr th:only-of-type {\n",
       "        vertical-align: middle;\n",
       "    }\n",
       "\n",
       "    .dataframe tbody tr th {\n",
       "        vertical-align: top;\n",
       "    }\n",
       "\n",
       "    .dataframe thead th {\n",
       "        text-align: right;\n",
       "    }\n",
       "</style>\n",
       "<table border=\"1\" class=\"dataframe\">\n",
       "  <thead>\n",
       "    <tr style=\"text-align: right;\">\n",
       "      <th></th>\n",
       "      <th>Row ID</th>\n",
       "      <th>Order ID</th>\n",
       "      <th>Order Date</th>\n",
       "      <th>Ship Date</th>\n",
       "      <th>Ship Mode</th>\n",
       "      <th>Customer ID</th>\n",
       "      <th>Country/Region</th>\n",
       "      <th>City</th>\n",
       "      <th>State/Province</th>\n",
       "      <th>Postal Code</th>\n",
       "      <th>Division</th>\n",
       "      <th>Region</th>\n",
       "      <th>Product ID</th>\n",
       "      <th>Product Name</th>\n",
       "      <th>Sales</th>\n",
       "      <th>Units</th>\n",
       "      <th>Gross Profit</th>\n",
       "      <th>Cost</th>\n",
       "    </tr>\n",
       "  </thead>\n",
       "  <tbody>\n",
       "    <tr>\n",
       "      <th>0</th>\n",
       "      <td>1133</td>\n",
       "      <td>US-2021-138100-CHO-MIL-31000</td>\n",
       "      <td>2021-09-15</td>\n",
       "      <td>2027-03-13</td>\n",
       "      <td>Standard Class</td>\n",
       "      <td>138100</td>\n",
       "      <td>United States</td>\n",
       "      <td>New York City</td>\n",
       "      <td>New York</td>\n",
       "      <td>10011</td>\n",
       "      <td>Chocolate</td>\n",
       "      <td>Atlantic</td>\n",
       "      <td>CHO-MIL-31000</td>\n",
       "      <td>Wonka Bar - Milk Chocolate</td>\n",
       "      <td>9.75</td>\n",
       "      <td>3</td>\n",
       "      <td>6.33</td>\n",
       "      <td>3.42</td>\n",
       "    </tr>\n",
       "    <tr>\n",
       "      <th>1</th>\n",
       "      <td>3396</td>\n",
       "      <td>US-2022-121391-CHO-MIL-31000</td>\n",
       "      <td>2022-10-04</td>\n",
       "      <td>2028-03-29</td>\n",
       "      <td>First Class</td>\n",
       "      <td>121391</td>\n",
       "      <td>United States</td>\n",
       "      <td>San Francisco</td>\n",
       "      <td>California</td>\n",
       "      <td>94109</td>\n",
       "      <td>Chocolate</td>\n",
       "      <td>Pacific</td>\n",
       "      <td>CHO-MIL-31000</td>\n",
       "      <td>Wonka Bar - Milk Chocolate</td>\n",
       "      <td>6.50</td>\n",
       "      <td>2</td>\n",
       "      <td>4.22</td>\n",
       "      <td>2.28</td>\n",
       "    </tr>\n",
       "    <tr>\n",
       "      <th>2</th>\n",
       "      <td>4377</td>\n",
       "      <td>US-2023-103982-CHO-MIL-31000</td>\n",
       "      <td>2023-03-03</td>\n",
       "      <td>2028-08-28</td>\n",
       "      <td>Standard Class</td>\n",
       "      <td>103982</td>\n",
       "      <td>United States</td>\n",
       "      <td>Round Rock</td>\n",
       "      <td>Texas</td>\n",
       "      <td>78664</td>\n",
       "      <td>Chocolate</td>\n",
       "      <td>Interior</td>\n",
       "      <td>CHO-MIL-31000</td>\n",
       "      <td>Wonka Bar - Milk Chocolate</td>\n",
       "      <td>9.75</td>\n",
       "      <td>3</td>\n",
       "      <td>6.33</td>\n",
       "      <td>3.42</td>\n",
       "    </tr>\n",
       "    <tr>\n",
       "      <th>3</th>\n",
       "      <td>387</td>\n",
       "      <td>US-2021-158064-CHO-MIL-31000</td>\n",
       "      <td>2021-04-21</td>\n",
       "      <td>2026-10-16</td>\n",
       "      <td>Standard Class</td>\n",
       "      <td>158064</td>\n",
       "      <td>United States</td>\n",
       "      <td>Los Angeles</td>\n",
       "      <td>California</td>\n",
       "      <td>90008</td>\n",
       "      <td>Chocolate</td>\n",
       "      <td>Pacific</td>\n",
       "      <td>CHO-MIL-31000</td>\n",
       "      <td>Wonka Bar - Milk Chocolate</td>\n",
       "      <td>16.25</td>\n",
       "      <td>5</td>\n",
       "      <td>10.55</td>\n",
       "      <td>5.70</td>\n",
       "    </tr>\n",
       "    <tr>\n",
       "      <th>4</th>\n",
       "      <td>1397</td>\n",
       "      <td>US-2021-130729-CHO-MIL-31000</td>\n",
       "      <td>2021-10-24</td>\n",
       "      <td>2027-04-21</td>\n",
       "      <td>Standard Class</td>\n",
       "      <td>130729</td>\n",
       "      <td>United States</td>\n",
       "      <td>Rancho Cucamonga</td>\n",
       "      <td>California</td>\n",
       "      <td>91730</td>\n",
       "      <td>Chocolate</td>\n",
       "      <td>Pacific</td>\n",
       "      <td>CHO-MIL-31000</td>\n",
       "      <td>Wonka Bar - Milk Chocolate</td>\n",
       "      <td>9.75</td>\n",
       "      <td>3</td>\n",
       "      <td>6.33</td>\n",
       "      <td>3.42</td>\n",
       "    </tr>\n",
       "  </tbody>\n",
       "</table>\n",
       "</div>"
      ],
      "text/plain": [
       "   Row ID                      Order ID  Order Date   Ship Date  \\\n",
       "0    1133  US-2021-138100-CHO-MIL-31000  2021-09-15  2027-03-13   \n",
       "1    3396  US-2022-121391-CHO-MIL-31000  2022-10-04  2028-03-29   \n",
       "2    4377  US-2023-103982-CHO-MIL-31000  2023-03-03  2028-08-28   \n",
       "3     387  US-2021-158064-CHO-MIL-31000  2021-04-21  2026-10-16   \n",
       "4    1397  US-2021-130729-CHO-MIL-31000  2021-10-24  2027-04-21   \n",
       "\n",
       "        Ship Mode  Customer ID Country/Region              City  \\\n",
       "0  Standard Class       138100  United States     New York City   \n",
       "1     First Class       121391  United States     San Francisco   \n",
       "2  Standard Class       103982  United States        Round Rock   \n",
       "3  Standard Class       158064  United States       Los Angeles   \n",
       "4  Standard Class       130729  United States  Rancho Cucamonga   \n",
       "\n",
       "  State/Province Postal Code   Division    Region     Product ID  \\\n",
       "0       New York       10011  Chocolate  Atlantic  CHO-MIL-31000   \n",
       "1     California       94109  Chocolate   Pacific  CHO-MIL-31000   \n",
       "2          Texas       78664  Chocolate  Interior  CHO-MIL-31000   \n",
       "3     California       90008  Chocolate   Pacific  CHO-MIL-31000   \n",
       "4     California       91730  Chocolate   Pacific  CHO-MIL-31000   \n",
       "\n",
       "                 Product Name  Sales  Units  Gross Profit  Cost  \n",
       "0  Wonka Bar - Milk Chocolate   9.75      3          6.33  3.42  \n",
       "1  Wonka Bar - Milk Chocolate   6.50      2          4.22  2.28  \n",
       "2  Wonka Bar - Milk Chocolate   9.75      3          6.33  3.42  \n",
       "3  Wonka Bar - Milk Chocolate  16.25      5         10.55  5.70  \n",
       "4  Wonka Bar - Milk Chocolate   9.75      3          6.33  3.42  "
      ]
     },
     "metadata": {},
     "output_type": "display_data"
    },
    {
     "name": "stdout",
     "output_type": "stream",
     "text": [
      "\n",
      "DataFrame Columns and Sample Values:\n",
      "Column: Row ID, Unique Values: 2137, Example Value: 1133\n",
      "Column: Order ID, Unique Values: 1768, Example Value: US-2021-138100-CHO-MIL-31000\n",
      "Column: Order Date, Unique Values: 897, Example Value: 2021-09-15\n",
      "Column: Ship Date, Unique Values: 971, Example Value: 2027-03-13\n",
      "Column: Ship Mode, Unique Values: 4, Example Value: Standard Class\n",
      "Column: Customer ID, Unique Values: 1745, Example Value: 138100\n",
      "Column: Country/Region, Unique Values: 2, Example Value: United States\n",
      "Column: City, Unique Values: 360, Example Value: New York City\n",
      "Column: State/Province, Unique Values: 53, Example Value: New York\n",
      "Column: Postal Code, Unique Values: 444, Example Value: 10011\n",
      "Column: Division, Unique Values: 1, Example Value: Chocolate\n",
      "Column: Region, Unique Values: 4, Example Value: Atlantic\n",
      "Column: Product ID, Unique Values: 1, Example Value: CHO-MIL-31000\n",
      "Column: Product Name, Unique Values: 1, Example Value: Wonka Bar - Milk Chocolate\n",
      "Column: Sales, Unique Values: 14, Example Value: 9.75\n",
      "Column: Units, Unique Values: 14, Example Value: 3\n",
      "Column: Gross Profit, Unique Values: 14, Example Value: 6.33\n",
      "Column: Cost, Unique Values: 14, Example Value: 3.42\n"
     ]
    }
   ],
   "source": [
    "picked_id = 'CHO-MIL-31000'\n",
    "df = pd.read_csv(f'./datasets/{picked_id}-Sales.csv')\n",
    "\n",
    "# Display the first few rows\n",
    "print(\"Raw Data:\")\n",
    "display(df.head())\n",
    "\n",
    "# Print basic info about df columns before processing\n",
    "print(\"\\nDataFrame Columns and Sample Values:\")\n",
    "for col in df.columns:\n",
    "    unique_vals = df[col].unique()\n",
    "    num_unique = len(unique_vals)\n",
    "    sample_val = unique_vals[0] if num_unique > 0 else None\n",
    "    print(f\"Column: {col}, Unique Values: {num_unique}, Example Value: {sample_val}\")"
   ]
  },
  {
   "cell_type": "markdown",
   "metadata": {},
   "source": [
    "# 3. Aggregate the Data Monthly"
   ]
  },
  {
   "cell_type": "code",
   "execution_count": 76,
   "metadata": {},
   "outputs": [
    {
     "data": {
      "text/html": [
       "<div>\n",
       "<style scoped>\n",
       "    .dataframe tbody tr th:only-of-type {\n",
       "        vertical-align: middle;\n",
       "    }\n",
       "\n",
       "    .dataframe tbody tr th {\n",
       "        vertical-align: top;\n",
       "    }\n",
       "\n",
       "    .dataframe thead th {\n",
       "        text-align: right;\n",
       "    }\n",
       "</style>\n",
       "<table border=\"1\" class=\"dataframe\">\n",
       "  <thead>\n",
       "    <tr style=\"text-align: right;\">\n",
       "      <th></th>\n",
       "      <th>Order Date</th>\n",
       "      <th>Units</th>\n",
       "      <th>Year</th>\n",
       "      <th>Month</th>\n",
       "    </tr>\n",
       "  </thead>\n",
       "  <tbody>\n",
       "    <tr>\n",
       "      <th>0</th>\n",
       "      <td>2021-01-31</td>\n",
       "      <td>91</td>\n",
       "      <td>2021</td>\n",
       "      <td>1</td>\n",
       "    </tr>\n",
       "    <tr>\n",
       "      <th>1</th>\n",
       "      <td>2021-02-28</td>\n",
       "      <td>43</td>\n",
       "      <td>2021</td>\n",
       "      <td>2</td>\n",
       "    </tr>\n",
       "    <tr>\n",
       "      <th>2</th>\n",
       "      <td>2021-03-31</td>\n",
       "      <td>126</td>\n",
       "      <td>2021</td>\n",
       "      <td>3</td>\n",
       "    </tr>\n",
       "    <tr>\n",
       "      <th>3</th>\n",
       "      <td>2021-04-30</td>\n",
       "      <td>151</td>\n",
       "      <td>2021</td>\n",
       "      <td>4</td>\n",
       "    </tr>\n",
       "    <tr>\n",
       "      <th>4</th>\n",
       "      <td>2021-05-31</td>\n",
       "      <td>112</td>\n",
       "      <td>2021</td>\n",
       "      <td>5</td>\n",
       "    </tr>\n",
       "  </tbody>\n",
       "</table>\n",
       "</div>"
      ],
      "text/plain": [
       "  Order Date  Units  Year  Month\n",
       "0 2021-01-31     91  2021      1\n",
       "1 2021-02-28     43  2021      2\n",
       "2 2021-03-31    126  2021      3\n",
       "3 2021-04-30    151  2021      4\n",
       "4 2021-05-31    112  2021      5"
      ]
     },
     "metadata": {},
     "output_type": "display_data"
    },
    {
     "name": "stdout",
     "output_type": "stream",
     "text": [
      "   Order Date  Units  Year  Month\n",
      "0  2021-01-31     91  2021      1\n",
      "1  2021-02-28     43  2021      2\n",
      "2  2021-03-31    126  2021      3\n",
      "3  2021-04-30    151  2021      4\n",
      "4  2021-05-31    112  2021      5\n",
      "5  2021-06-30    146  2021      6\n",
      "6  2021-07-31    122  2021      7\n",
      "7  2021-08-31    173  2021      8\n",
      "8  2021-09-30    187  2021      9\n",
      "9  2021-10-31     96  2021     10\n",
      "10 2021-11-30    278  2021     11\n",
      "11 2021-12-31    232  2021     12\n",
      "12 2022-01-31     83  2022      1\n",
      "13 2022-02-28     69  2022      2\n",
      "14 2022-03-31    130  2022      3\n",
      "15 2022-04-30     98  2022      4\n",
      "16 2022-05-31    145  2022      5\n",
      "17 2022-06-30    105  2022      6\n",
      "18 2022-07-31    136  2022      7\n",
      "19 2022-08-31    139  2022      8\n",
      "20 2022-09-30    223  2022      9\n",
      "21 2022-10-31    152  2022     10\n",
      "22 2022-11-30    287  2022     11\n",
      "23 2022-12-31    174  2022     12\n",
      "24 2023-01-31     84  2023      1\n",
      "25 2023-02-28     53  2023      2\n",
      "26 2023-03-31    135  2023      3\n",
      "27 2023-04-30    132  2023      4\n",
      "28 2023-05-31    183  2023      5\n",
      "29 2023-06-30    201  2023      6\n",
      "30 2023-07-31    173  2023      7\n",
      "31 2023-08-31    111  2023      8\n",
      "32 2023-09-30    267  2023      9\n",
      "33 2023-10-31    146  2023     10\n",
      "34 2023-11-30    294  2023     11\n",
      "35 2023-12-31    297  2023     12\n",
      "36 2024-01-31    167  2024      1\n",
      "37 2024-02-29     62  2024      2\n",
      "38 2024-03-31    214  2024      3\n",
      "39 2024-04-30    129  2024      4\n",
      "40 2024-05-31    174  2024      5\n",
      "41 2024-06-30    230  2024      6\n",
      "42 2024-07-31    160  2024      7\n",
      "43 2024-08-31    229  2024      8\n",
      "44 2024-09-30    316  2024      9\n",
      "45 2024-10-31    245  2024     10\n",
      "46 2024-11-30    351  2024     11\n",
      "47 2024-12-31    416  2024     12\n",
      "\n",
      "DataFrame Columns and Sample Values:\n",
      "Column: Order Date, Unique Values: 48, Example Value: 2021-01-31 00:00:00\n",
      "Column: Units, Unique Values: 45, Example Value: 91\n",
      "Column: Year, Unique Values: 4, Example Value: 2021\n",
      "Column: Month, Unique Values: 12, Example Value: 1\n"
     ]
    }
   ],
   "source": [
    "# Convert 'Order Date' to datetime\n",
    "df['Order Date'] = pd.to_datetime(df['Order Date'], format='%Y-%m-%d', errors='coerce')\n",
    "df = df.dropna(subset=['Order Date'])\n",
    "\n",
    "# Keep only numeric columns that make sense to aggregate monthly\n",
    "# For example, Units, Sales, Gross Profit, and Cost.\n",
    "# Drop all non-numeric columns before resampling to avoid string concatenation issues.\n",
    "numeric_cols = ['Units']\n",
    "df = df[['Order Date'] + numeric_cols]\n",
    "\n",
    "# Set Order Date as index for resampling\n",
    "df.set_index('Order Date', inplace=True)\n",
    "\n",
    "# Aggregate by month (end of month) - sum numeric values\n",
    "monthly_df = df.resample('ME').sum().dropna()\n",
    "\n",
    "# Add Year and Month columns from the DateTime index\n",
    "monthly_df['Year'] = monthly_df.index.year\n",
    "monthly_df['Month'] = monthly_df.index.month\n",
    "\n",
    "# Reset index to move 'Order Date' back to a column if needed\n",
    "monthly_df.reset_index(inplace=True)\n",
    "\n",
    "# Now monthly_df only contains numeric aggregates and clean date-derived columns\n",
    "display(monthly_df.head())\n",
    "\n",
    "print(monthly_df)\n",
    "\n",
    "# Print basic info about monthly_df columns before processing\n",
    "print(\"\\nDataFrame Columns and Sample Values:\")\n",
    "for col in monthly_df.columns:\n",
    "    unique_vals = monthly_df[col].unique()\n",
    "    num_unique = len(unique_vals)\n",
    "    sample_val = unique_vals[0] if num_unique > 0 else None\n",
    "    print(f\"Column: {col}, Unique Values: {num_unique}, Example Value: {sample_val}\")\n"
   ]
  },
  {
   "cell_type": "markdown",
   "metadata": {},
   "source": [
    "# 4. Preprocess the Data"
   ]
  },
  {
   "cell_type": "code",
   "execution_count": 77,
   "metadata": {},
   "outputs": [
    {
     "name": "stdout",
     "output_type": "stream",
     "text": [
      "\n",
      "Preprocessed Features:\n"
     ]
    },
    {
     "data": {
      "text/html": [
       "<div>\n",
       "<style scoped>\n",
       "    .dataframe tbody tr th:only-of-type {\n",
       "        vertical-align: middle;\n",
       "    }\n",
       "\n",
       "    .dataframe tbody tr th {\n",
       "        vertical-align: top;\n",
       "    }\n",
       "\n",
       "    .dataframe thead th {\n",
       "        text-align: right;\n",
       "    }\n",
       "</style>\n",
       "<table border=\"1\" class=\"dataframe\">\n",
       "  <thead>\n",
       "    <tr style=\"text-align: right;\">\n",
       "      <th></th>\n",
       "      <th>Year</th>\n",
       "      <th>Month</th>\n",
       "    </tr>\n",
       "  </thead>\n",
       "  <tbody>\n",
       "    <tr>\n",
       "      <th>0</th>\n",
       "      <td>-1.341641</td>\n",
       "      <td>-1.593255</td>\n",
       "    </tr>\n",
       "    <tr>\n",
       "      <th>1</th>\n",
       "      <td>-1.341641</td>\n",
       "      <td>-1.303572</td>\n",
       "    </tr>\n",
       "    <tr>\n",
       "      <th>2</th>\n",
       "      <td>-1.341641</td>\n",
       "      <td>-1.013890</td>\n",
       "    </tr>\n",
       "    <tr>\n",
       "      <th>3</th>\n",
       "      <td>-1.341641</td>\n",
       "      <td>-0.724207</td>\n",
       "    </tr>\n",
       "    <tr>\n",
       "      <th>4</th>\n",
       "      <td>-1.341641</td>\n",
       "      <td>-0.434524</td>\n",
       "    </tr>\n",
       "  </tbody>\n",
       "</table>\n",
       "</div>"
      ],
      "text/plain": [
       "       Year     Month\n",
       "0 -1.341641 -1.593255\n",
       "1 -1.341641 -1.303572\n",
       "2 -1.341641 -1.013890\n",
       "3 -1.341641 -0.724207\n",
       "4 -1.341641 -0.434524"
      ]
     },
     "metadata": {},
     "output_type": "display_data"
    }
   ],
   "source": [
    "X, y, preprocessing_pipeline = preprocess_data_monthly(monthly_df, pipeline=None, fit_pipeline=True)\n",
    "\n",
    "print(\"\\nPreprocessed Features:\")\n",
    "display(X.head())"
   ]
  },
  {
   "cell_type": "markdown",
   "metadata": {},
   "source": [
    "# 5. Split the Data"
   ]
  },
  {
   "cell_type": "code",
   "execution_count": 78,
   "metadata": {},
   "outputs": [
    {
     "name": "stdout",
     "output_type": "stream",
     "text": [
      "\n",
      "Training set shape: (28, 2)\n",
      "CV set shape: (10, 2)\n",
      "Testing set shape: (10, 2)\n"
     ]
    }
   ],
   "source": [
    "X_train, X_temp, y_train, y_temp = train_test_split(\n",
    "    X, y, test_size=0.4, random_state=42\n",
    ")\n",
    "X_cv, X_test, y_cv, y_test = train_test_split(\n",
    "    X_temp, y_temp, test_size=0.5, random_state=42\n",
    ")\n",
    "\n",
    "print(f\"\\nTraining set shape: {X_train.shape}\")\n",
    "print(f\"CV set shape: {X_cv.shape}\")\n",
    "print(f\"Testing set shape: {X_test.shape}\")"
   ]
  },
  {
   "cell_type": "markdown",
   "metadata": {},
   "source": [
    "# 6. Train Random Forest"
   ]
  },
  {
   "cell_type": "code",
   "execution_count": 79,
   "metadata": {},
   "outputs": [
    {
     "name": "stdout",
     "output_type": "stream",
     "text": [
      "\n",
      "Random Forest CV Metrics:\n",
      "Mean Absolute Error (MAE): 54.1810\n",
      "Root Mean Squared Error (RMSE): 62.9410\n",
      "R² Score: -1.9348\n",
      "\n",
      "Random Forest Test Metrics:\n",
      "Mean Absolute Error (MAE): 42.8320\n",
      "Root Mean Squared Error (RMSE): 47.4240\n",
      "R² Score: 0.3598\n"
     ]
    },
    {
     "name": "stderr",
     "output_type": "stream",
     "text": [
      "/opt/anaconda3/envs/uscandy/lib/python3.10/site-packages/sklearn/metrics/_regression.py:492: FutureWarning: 'squared' is deprecated in version 1.4 and will be removed in 1.6. To calculate the root mean squared error, use the function'root_mean_squared_error'.\n",
      "  warnings.warn(\n",
      "/opt/anaconda3/envs/uscandy/lib/python3.10/site-packages/sklearn/metrics/_regression.py:492: FutureWarning: 'squared' is deprecated in version 1.4 and will be removed in 1.6. To calculate the root mean squared error, use the function'root_mean_squared_error'.\n",
      "  warnings.warn(\n"
     ]
    }
   ],
   "source": [
    "rf_model = train_model(X_train, y_train, model_type='random_forest')\n",
    "rf_cv_metrics = evaluate_model(rf_model, X_cv, y_cv)\n",
    "rf_test_metrics = evaluate_model(rf_model, X_test, y_test)\n",
    "\n",
    "print(\"\\nRandom Forest CV Metrics:\")\n",
    "for metric, value in rf_cv_metrics.items():\n",
    "    print(f\"{metric}: {value:.4f}\")\n",
    "\n",
    "print(\"\\nRandom Forest Test Metrics:\")\n",
    "for metric, value in rf_test_metrics.items():\n",
    "    print(f\"{metric}: {value:.4f}\")"
   ]
  },
  {
   "cell_type": "markdown",
   "metadata": {},
   "source": [
    "# 7. Train Linear Regression"
   ]
  },
  {
   "cell_type": "code",
   "execution_count": 80,
   "metadata": {},
   "outputs": [
    {
     "name": "stdout",
     "output_type": "stream",
     "text": [
      "\n",
      "Linear Regression CV Metrics:\n",
      "Mean Absolute Error (MAE): 51.5387\n",
      "Root Mean Squared Error (RMSE): 63.9360\n",
      "R² Score: -2.0284\n",
      "\n",
      "Linear Regression Test Metrics:\n",
      "Mean Absolute Error (MAE): 44.9385\n",
      "Root Mean Squared Error (RMSE): 51.1513\n",
      "R² Score: 0.2553\n"
     ]
    },
    {
     "name": "stderr",
     "output_type": "stream",
     "text": [
      "/opt/anaconda3/envs/uscandy/lib/python3.10/site-packages/sklearn/metrics/_regression.py:492: FutureWarning: 'squared' is deprecated in version 1.4 and will be removed in 1.6. To calculate the root mean squared error, use the function'root_mean_squared_error'.\n",
      "  warnings.warn(\n",
      "/opt/anaconda3/envs/uscandy/lib/python3.10/site-packages/sklearn/metrics/_regression.py:492: FutureWarning: 'squared' is deprecated in version 1.4 and will be removed in 1.6. To calculate the root mean squared error, use the function'root_mean_squared_error'.\n",
      "  warnings.warn(\n"
     ]
    }
   ],
   "source": [
    "lr_model = train_model(X_train, y_train, model_type='linear')\n",
    "lr_cv_metrics = evaluate_model(lr_model, X_cv, y_cv)\n",
    "lr_test_metrics = evaluate_model(lr_model, X_test, y_test)\n",
    "\n",
    "print(\"\\nLinear Regression CV Metrics:\")\n",
    "for metric, value in lr_cv_metrics.items():\n",
    "    print(f\"{metric}: {value:.4f}\")\n",
    "\n",
    "print(\"\\nLinear Regression Test Metrics:\")\n",
    "for metric, value in lr_test_metrics.items():\n",
    "    print(f\"{metric}: {value:.4f}\")"
   ]
  },
  {
   "cell_type": "markdown",
   "metadata": {},
   "source": [
    "# 8. Save the preprocessing pipeline and models"
   ]
  },
  {
   "cell_type": "code",
   "execution_count": 81,
   "metadata": {},
   "outputs": [
    {
     "name": "stdout",
     "output_type": "stream",
     "text": [
      "\n",
      "Preprocessing pipeline, Linear Regression model and Random Forest model have been saved.\n"
     ]
    }
   ],
   "source": [
    "preprocessing_pipeline_path = './models/monthly_preprocessing_pipeline.pkl'\n",
    "with open(preprocessing_pipeline_path, 'wb') as f:\n",
    "    pickle.dump(preprocessing_pipeline, f)\n",
    "\n",
    "rf_model_path = './models/monthly_model_rf.pkl'\n",
    "save_model(rf_model, rf_model_path)\n",
    "\n",
    "lr_model_path = './models/monthly_model_lr.pkl'\n",
    "save_model(lr_model, lr_model_path)\n",
    "\n",
    "print(\"\\nPreprocessing pipeline, Linear Regression model and Random Forest model have been saved.\")"
   ]
  },
  {
   "cell_type": "markdown",
   "metadata": {},
   "source": [
    "# 9. Optionally make predictions on new monthly data"
   ]
  },
  {
   "cell_type": "code",
   "execution_count": 82,
   "metadata": {},
   "outputs": [
    {
     "name": "stdout",
     "output_type": "stream",
     "text": [
      "\n",
      "New Data with Predictions:\n"
     ]
    },
    {
     "data": {
      "text/html": [
       "<div>\n",
       "<style scoped>\n",
       "    .dataframe tbody tr th:only-of-type {\n",
       "        vertical-align: middle;\n",
       "    }\n",
       "\n",
       "    .dataframe tbody tr th {\n",
       "        vertical-align: top;\n",
       "    }\n",
       "\n",
       "    .dataframe thead th {\n",
       "        text-align: right;\n",
       "    }\n",
       "</style>\n",
       "<table border=\"1\" class=\"dataframe\">\n",
       "  <thead>\n",
       "    <tr style=\"text-align: right;\">\n",
       "      <th></th>\n",
       "      <th>Order Date</th>\n",
       "      <th>Year</th>\n",
       "      <th>Month</th>\n",
       "      <th>Predicted Units</th>\n",
       "    </tr>\n",
       "  </thead>\n",
       "  <tbody>\n",
       "    <tr>\n",
       "      <th>0</th>\n",
       "      <td>2021-06-30</td>\n",
       "      <td>2021</td>\n",
       "      <td>6</td>\n",
       "      <td>133.394653</td>\n",
       "    </tr>\n",
       "    <tr>\n",
       "      <th>1</th>\n",
       "      <td>2021-07-31</td>\n",
       "      <td>2021</td>\n",
       "      <td>7</td>\n",
       "      <td>149.211672</td>\n",
       "    </tr>\n",
       "    <tr>\n",
       "      <th>2</th>\n",
       "      <td>2021-08-31</td>\n",
       "      <td>2021</td>\n",
       "      <td>8</td>\n",
       "      <td>165.028690</td>\n",
       "    </tr>\n",
       "    <tr>\n",
       "      <th>3</th>\n",
       "      <td>2021-09-30</td>\n",
       "      <td>2021</td>\n",
       "      <td>9</td>\n",
       "      <td>180.845709</td>\n",
       "    </tr>\n",
       "  </tbody>\n",
       "</table>\n",
       "</div>"
      ],
      "text/plain": [
       "   Order Date  Year  Month  Predicted Units\n",
       "0  2021-06-30  2021      6       133.394653\n",
       "1  2021-07-31  2021      7       149.211672\n",
       "2  2021-08-31  2021      8       165.028690\n",
       "3  2021-09-30  2021      9       180.845709"
      ]
     },
     "metadata": {},
     "output_type": "display_data"
    },
    {
     "name": "stdout",
     "output_type": "stream",
     "text": [
      "\n",
      "Predictions have been saved to 'models/monthly_predictions_monthly.csv'.\n"
     ]
    }
   ],
   "source": [
    "# Suppose you have a new_data.csv file aggregated monthly:\n",
    "new_data_path = './datasets/monthly_new_data.csv'\n",
    "new_df = pd.read_csv(new_data_path)\n",
    "X_new, _, _ = preprocess_data_monthly(new_df, pipeline=preprocessing_pipeline, fit_pipeline=False)\n",
    "model_loaded = load_model(lr_model_path)\n",
    "predictions = model_loaded.predict(X_new)\n",
    "new_df['Predicted Units'] = predictions\n",
    "\n",
    "print(\"\\nNew Data with Predictions:\")\n",
    "display(new_df)\n",
    "\n",
    "output_path = 'models/monthly_predictions_monthly.csv'\n",
    "new_df.to_csv(output_path, index=False)\n",
    "print(f\"\\nPredictions have been saved to '{output_path}'.\")"
   ]
  }
 ],
 "metadata": {
  "kernelspec": {
   "display_name": "uscandy",
   "language": "python",
   "name": "python3"
  },
  "language_info": {
   "codemirror_mode": {
    "name": "ipython",
    "version": 3
   },
   "file_extension": ".py",
   "mimetype": "text/x-python",
   "name": "python",
   "nbconvert_exporter": "python",
   "pygments_lexer": "ipython3",
   "version": "3.10.16"
  }
 },
 "nbformat": 4,
 "nbformat_minor": 2
}
