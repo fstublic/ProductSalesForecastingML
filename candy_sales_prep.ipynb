{
 "cells": [
  {
   "cell_type": "code",
   "execution_count": 1,
   "metadata": {},
   "outputs": [],
   "source": [
    "import pandas as pd\n",
    "import numpy as np\n",
    "\n",
    "df = pd.read_csv('./datasets/Candy_Sales.csv')"
   ]
  },
  {
   "cell_type": "code",
   "execution_count": 2,
   "metadata": {},
   "outputs": [
    {
     "name": "stdout",
     "output_type": "stream",
     "text": [
      "CHO-TRI-54000: 2015 records\n",
      "CHO-SCR-58000: 2064 records\n",
      "CHO-FUD-51000: 1818 records\n",
      "CHO-MIL-31000: 2137 records\n",
      "CHO-NUT-13000: 1810 records\n",
      "OTH-GUM-21000: 120 records\n",
      "SUG-SWE-91000: 10 records\n",
      "OTH-LIC-15000: 94 records\n",
      "OTH-KAZ-38000: 96 records\n",
      "SUG-EVE-47000: 3 records\n",
      "OTH-FIZ-56000: 6 records\n",
      "SUG-NER-92000: 4 records\n",
      "SUG-FUN-75000: 3 records\n",
      "SUG-LAF-25000: 10 records\n",
      "SUG-HAI-55000: 4 records\n",
      "CHO-FUD-51000: 1818 records\n",
      "CHO-MIL-31000: 2137 records\n",
      "CHO-NUT-13000: 1810 records\n",
      "CHO-SCR-58000: 2064 records\n",
      "CHO-TRI-54000: 2015 records\n",
      "OTH-FIZ-56000: 6 records\n",
      "OTH-GUM-21000: 120 records\n",
      "OTH-KAZ-38000: 96 records\n",
      "OTH-LIC-15000: 94 records\n",
      "SUG-EVE-47000: 3 records\n",
      "SUG-FUN-75000: 3 records\n",
      "SUG-HAI-55000: 4 records\n",
      "SUG-LAF-25000: 10 records\n",
      "SUG-NER-92000: 4 records\n",
      "SUG-SWE-91000: 10 records\n",
      "\n",
      "Product with the highest count: CHO-MIL-31000 (2137 records)\n"
     ]
    }
   ],
   "source": [
    "# Get all unique Product IDs\n",
    "unique_product_ids = df['Product ID'].unique()\n",
    "\n",
    "# Create a dictionary to hold DataFrames for each Product ID\n",
    "product_dfs = {}\n",
    "\n",
    "# Iterate over each unique Product ID and create a corresponding DataFrame\n",
    "for pid in unique_product_ids:\n",
    "    product_dfs[pid] = df[df['Product ID'] == pid]\n",
    "    print(f\"{pid}: {product_dfs[pid].shape[0]} records\")\n",
    "\n",
    "# Alternatively, using groupby for better efficiency\n",
    "grouped = df.groupby('Product ID')\n",
    "\n",
    "# Print counts for each Product ID\n",
    "for pid, group in grouped:\n",
    "    print(f\"{pid}: {group.shape[0]} records\")\n",
    "\n",
    "# Find the Product ID with the highest count\n",
    "product_counts = df['Product ID'].value_counts()\n",
    "top_product_id = product_counts.idxmax()\n",
    "top_count = product_counts.max()\n",
    "\n",
    "print(f\"\\nProduct with the highest count: {top_product_id} ({top_count} records)\")"
   ]
  },
  {
   "cell_type": "code",
   "execution_count": 5,
   "metadata": {},
   "outputs": [],
   "source": [
    "# change following field as you need\n",
    "picked_id = 'CHO-MIL-31000'\n",
    "\n",
    "product_dfs[top_product_id].to_csv(f'./datasets/{picked_id}-Sales.csv', index=False)"
   ]
  }
 ],
 "metadata": {
  "kernelspec": {
   "display_name": "uscandy",
   "language": "python",
   "name": "python3"
  },
  "language_info": {
   "codemirror_mode": {
    "name": "ipython",
    "version": 3
   },
   "file_extension": ".py",
   "mimetype": "text/x-python",
   "name": "python",
   "nbconvert_exporter": "python",
   "pygments_lexer": "ipython3",
   "version": "3.10.16"
  }
 },
 "nbformat": 4,
 "nbformat_minor": 2
}
